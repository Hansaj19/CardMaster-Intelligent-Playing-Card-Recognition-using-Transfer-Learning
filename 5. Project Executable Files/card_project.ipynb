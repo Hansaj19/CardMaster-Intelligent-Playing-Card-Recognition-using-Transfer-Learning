version https://git-lfs.github.com/spec/v1
oid sha256:1b6c817d35f5d29e2d78ec7e9a4eea5b4e1d0b9250310d9d5fcf761fdfdf501e
size 470197
