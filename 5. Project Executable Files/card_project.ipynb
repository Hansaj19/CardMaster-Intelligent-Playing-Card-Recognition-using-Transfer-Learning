{
  "cells": [
    {
      "cell_type": "code",
      "execution_count": 1,
      "metadata": {
        "id": "NMv5_ClIAyTX"
      },
      "outputs": [],
      "source": [
        "import os\n",
        "import shutil\n",
        "import numpy as np\n",
        "from sklearn.model_selection import train_test_split\n",
        "\n",
        "from tensorflow.keras.preprocessing.image import ImageDataGenerator, load_img, img_to_array\n",
        "from tensorflow.keras.applications.vgg16 import VGG16, preprocess_input\n",
        "from tensorflow.keras.applications import InceptionV3, Xception\n",
        "\n",
        "from tensorflow.keras.layers import GlobalAveragePooling2D, Dense, Flatten\n",
        "from tensorflow.keras.models import Model\n",
        "from tensorflow.keras.optimizers import Adam\n",
        "from keras.preprocessing import image\n",
        "from tensorflow.keras import layers\n"
      ]
    },
    {
      "cell_type": "code",
      "execution_count": null,
      "metadata": {
        "colab": {
          "base_uri": "https://localhost:8080/"
        },
        "id": "mWMKIvEICI5o",
        "outputId": "9f28fe11-398c-4539-a6b8-0edec8a395f8"
      },
      "outputs": [
        {
          "name": "stdout",
          "output_type": "stream",
          "text": [
            "Dataset URL: https://www.kaggle.com/datasets/gpiosenka/cards-image-datasetclassification\n",
            "License(s): CC0-1.0\n",
            "Downloading cards-image-datasetclassification.zip to d:\\Card-project\n",
            "\n"
          ]
        },
        {
          "name": "stderr",
          "output_type": "stream",
          "text": [
            "\n",
            "  0%|          | 0.00/385M [00:00<?, ?B/s]\n",
            " 42%|████▏     | 160M/385M [00:00<00:00, 1.67GB/s]\n",
            " 84%|████████▎ | 322M/385M [00:00<00:00, 1.69GB/s]\n",
            "100%|██████████| 385M/385M [00:00<00:00, 1.42GB/s]\n"
          ]
        }
      ],
      "source": [
        "#setting up the kaggle API in the notebook\n",
        "!mkdir -p ~/.kaggle\n",
        "!copy kaggle.json ~/.kaggle/\n",
        "!chmod 600 ~/.kaggle/kaggle.json\n",
        "# downloading the dataset\n",
        "# run only one time\n",
        "!kaggle datasets download -d gpiosenka/cards-image-datasetclassification\n",
        "# unzipping the dataset\n",
        "# !unzip cards-image-datasetclassification.zip -d cards_dataset\n",
        "# run only one time\n",
        "import zipfile\n",
        "\n",
        "with zipfile.ZipFile(\"cards-image-datasetclassification.zip\", 'r') as zip_ref:\n",
        "    zip_ref.extractall(\"cards_dataset\")"
      ]
    },
    {
      "cell_type": "code",
      "execution_count": 2,
      "metadata": {
        "colab": {
          "base_uri": "https://localhost:8080/",
          "height": 241
        },
        "id": "j5k434ZiCjkY",
        "outputId": "a7f490c6-b6a4-492c-edf8-0b7065e87934"
      },
      "outputs": [
        {
          "data": {
            "image/jpeg": "[encoded data removed]",
            "text/plain": [
              "<IPython.core.display.Image object>"
            ]
          },
          "metadata": {},
          "output_type": "display_data"
        }
      ],
      "source": [
        "# visualizing the dataset\n",
        "import random\n",
        "from IPython.display import Image, display\n",
        "folder_path = \"cards_dataset/train/ace of diamonds\"\n",
        "# list comprehension is used here: image_files is a list\n",
        "image_files = [f for f in os.listdir(folder_path) if f.endswith(('.jpg','.png','.jpeg'))]\n",
        "selected_image = random.choice(image_files)\n",
        "image_path = os.path.join(folder_path, selected_image)\n",
        "display(Image(filename = image_path))"
      ]
    },
    {
      "cell_type": "markdown",
      "metadata": {
        "id": "cHyrPI_mHCDp"
      },
      "source": [
        "Above line can also be written as:\n",
        "```\n",
        "image_files = []\n",
        "for f in os.listdir(folder_path):\n",
        "    if f.endswith(('.jpg', '.png', '.jpeg')):\n",
        "        image_files.append(f)\n",
        "\n",
        "```"
      ]
    },
    {
      "cell_type": "code",
      "execution_count": null,
      "metadata": {
        "id": "rKxpJk8QHRZ1"
      },
      "outputs": [],
      "source": [
        "# Data Augmentation:\n",
        "# import tensorflow as tf\n",
        "# data_augment = tf.keras.Sequential([\n",
        "#     layers.RandomFlip(\"vertical\"),\n",
        "#     layers.RandomRotation(0.1),\n",
        "#     layers.RandomZoom(0.1),\n",
        "#     layers.RandomContrast(0.1)\n",
        "# ])"
      ]
    },
    {
      "cell_type": "code",
      "execution_count": 3,
      "metadata": {
        "id": "ZjWzw-qRKD_y"
      },
      "outputs": [],
      "source": [
        "# Splitting the Dataset :\n",
        "trainpath = \"cards_dataset/train\"\n",
        "testpath = \"cards_dataset/test\"\n",
        "valpath = \"cards_dataset/valid\"\n",
        "\n",
        "# Data Augmentation using imageDataGenerator :\n",
        "train_datagen = ImageDataGenerator(\n",
        "    rescale = 1/255, # normalising the image\n",
        "    zoom_range = 0.2, # zoom\n",
        "    shear_range = 0.2, # stretch and contract\n",
        "    vertical_flip=True #flip vertically\n",
        ")\n",
        "test_datagen = ImageDataGenerator(rescale=1/255)\n",
        "val_datagen = ImageDataGenerator(rescale=1/255)"
      ]
    },
    {
      "cell_type": "code",
      "execution_count": 4,
      "metadata": {
        "colab": {
          "base_uri": "https://localhost:8080/"
        },
        "id": "2kz_jYSJPGzM",
        "outputId": "5e751f36-ce8c-4950-970e-65021511471d"
      },
      "outputs": [
        {
          "name": "stdout",
          "output_type": "stream",
          "text": [
            "Found 7624 images belonging to 53 classes.\n",
            "Found 265 images belonging to 53 classes.\n",
            "Found 265 images belonging to 53 classes.\n"
          ]
        }
      ],
      "source": [
        "train = train_datagen.flow_from_directory(\n",
        "    trainpath,\n",
        "    target_size=(224, 224),\n",
        "    batch_size=16\n",
        ")\n",
        "\n",
        "test = test_datagen.flow_from_directory(\n",
        "    testpath,\n",
        "    target_size=(224, 224),\n",
        "    batch_size=16\n",
        ")\n",
        "\n",
        "val = val_datagen.flow_from_directory(\n",
        "    valpath,\n",
        "    target_size=(224, 224),\n",
        "    batch_size=16\n",
        ")"
      ]
    },
    {
      "cell_type": "markdown",
      "metadata": {
        "id": "wlQqC0uUQbo7"
      },
      "source": [
        "# **NOTES:**\n",
        "\n",
        "```.flow_from_directory```  \n",
        "✅ Goes into your folder  \n",
        "✅ Reads all the images  \n",
        "✅ Automatically labels them based on folder names  \n",
        "✅ Applies augmentations from train_datagen  \n",
        "✅ Returns a generator (like a never-ending supply of image batches)  \n",
        "\n",
        "```target_size=(224, 224)```  \n",
        "Yeh har image ko resize karta hai 224x224 pixels mein.  \n",
        "🧠 Note: Most pre-trained models like VGG, ResNet, etc. expect this size.  \n",
        "\n",
        "```batch_size=16```  \n",
        "This tells the generator to give 16 images at a time during training.  \n",
        "So: 1 step = 16 images  \n",
        "1 epoch = (total_images / batch_size) steps  "
      ]
    },
    {
      "cell_type": "markdown",
      "metadata": {},
      "source": []
    }
  ],
  "metadata": {
    "colab": {
      "provenance": []
    },
    "kernelspec": {
      "display_name": "card_env",
      "language": "python",
      "name": "python3"
    },
    "language_info": {
      "codemirror_mode": {
        "name": "ipython",
        "version": 3
      },
      "file_extension": ".py",
      "mimetype": "text/x-python",
      "name": "python",
      "nbconvert_exporter": "python",
      "pygments_lexer": "ipython3",
      "version": "3.11.9"
    }
  },
  "nbformat": 4,
  "nbformat_minor": 0
}
