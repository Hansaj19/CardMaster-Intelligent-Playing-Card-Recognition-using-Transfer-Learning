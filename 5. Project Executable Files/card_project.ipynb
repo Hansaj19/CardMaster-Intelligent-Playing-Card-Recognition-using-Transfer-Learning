version https://git-lfs.github.com/spec/v1
oid sha256:e8ec52ddeecb62a9b4840511f1d23de9953ee828f11dd64f218f06e9ea92d098
size 491144
