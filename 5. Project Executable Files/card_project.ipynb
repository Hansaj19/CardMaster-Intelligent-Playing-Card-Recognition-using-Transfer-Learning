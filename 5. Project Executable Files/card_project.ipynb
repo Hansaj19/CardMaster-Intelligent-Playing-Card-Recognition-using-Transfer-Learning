version https://git-lfs.github.com/spec/v1
oid sha256:10f1c2aac3e12893541d5ab2030ee98db28005d8680e1e0d99cacf479c53eab1
size 39027
